{
 "cells": [
  {
   "cell_type": "code",
   "execution_count": 6,
   "id": "980f5ae4-a874-44a8-9e5e-98b442efbdb4",
   "metadata": {
    "tags": []
   },
   "outputs": [
    {
     "name": "stdout",
     "output_type": "stream",
     "text": [
      "Saved neuron2neuron_output.gif\n"
     ]
    }
   ],
   "source": [
    "import imageio.v2 as imageio\n",
    "import numpy as np\n",
    "import matplotlib.pyplot as plt\n",
    "from matplotlib.colors import ListedColormap\n",
    "from io import BytesIO\n",
    "\n",
    "# Function to read all iterations from a file\n",
    "def read_all_iterations_from_file(filename):\n",
    "    all_iterations = []\n",
    "    current_grid = []\n",
    "    with open(filename, 'r') as file:\n",
    "        for line in file:\n",
    "            line = line.strip()\n",
    "            if line.startswith(\"Grid state after step\"):\n",
    "                if current_grid:\n",
    "                    all_iterations.append(np.array(current_grid))\n",
    "                    current_grid = []\n",
    "            elif line:  # Check if line is not empty\n",
    "                row = [int(x) for x in line.split()]\n",
    "                current_grid.append(row)\n",
    "        if current_grid:  # Add the last grid if it exists\n",
    "            all_iterations.append(np.array(current_grid))\n",
    "    return all_iterations\n",
    "\n",
    "# Function to convert a grid to an image\n",
    "def grid_to_image(grid, cmap):\n",
    "    fig, ax = plt.subplots()\n",
    "    ax.imshow(grid, cmap=cmap, interpolation='nearest')\n",
    "    ax.axis('off')\n",
    "\n",
    "    # Save the plot to a BytesIO object\n",
    "    buf = BytesIO()\n",
    "    plt.savefig(buf, format='png', bbox_inches='tight', pad_inches=0)\n",
    "    buf.seek(0)\n",
    "    image = imageio.imread(buf)\n",
    "    buf.close()\n",
    "    plt.close(fig)\n",
    "    return image\n",
    "\n",
    "# Function to create a GIF from all iterations\n",
    "def create_gif(all_iterations, filename, cmap, desired_fps=10):  # Set fps as desired\n",
    "    images = [grid_to_image(grid, cmap) for grid in all_iterations]\n",
    "    imageio.mimsave(filename, images, duration=1/desired_fps, loop=0)\n",
    "\n",
    "# Color map for visualizing the grid\n",
    "cmap = ListedColormap(['yellow', 'pink'])  # Modify for your color scheme\n",
    "\n",
    "# File names of the grid data\n",
    "file_names = [\"neuron2neuron_output.txt\"]\n",
    "\n",
    "# Process each file, create and save a GIF\n",
    "for file_name in file_names:\n",
    "    all_iterations = read_all_iterations_from_file(file_name)\n",
    "    gif_filename = f\"{file_name.split('.')[0]}.gif\"\n",
    "    create_gif(all_iterations, gif_filename, cmap)\n",
    "    print(f\"Saved {gif_filename}\")\n"
   ]
  },
  {
   "cell_type": "code",
   "execution_count": null,
   "id": "400e5715-092b-4b33-ae6f-13e767c5efa3",
   "metadata": {},
   "outputs": [],
   "source": []
  }
 ],
 "metadata": {
  "kernelspec": {
   "display_name": "Python 3 (ipykernel)",
   "language": "python",
   "name": "python3"
  },
  "language_info": {
   "codemirror_mode": {
    "name": "ipython",
    "version": 3
   },
   "file_extension": ".py",
   "mimetype": "text/x-python",
   "name": "python",
   "nbconvert_exporter": "python",
   "pygments_lexer": "ipython3",
   "version": "3.11.3"
  }
 },
 "nbformat": 4,
 "nbformat_minor": 5
}
